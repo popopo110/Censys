{
 "cells": [
  {
   "cell_type": "code",
   "execution_count": 141,
   "id": "58f24762-a788-488a-ac20-979509dde3ce",
   "metadata": {},
   "outputs": [],
   "source": [
    "import os, re, time\n",
    "from pathlib import Path\n",
    "from typing import Optional, List, Dict, Any\n",
    "import json, time, random, requests\n",
    "\n",
    "import numpy as np\n",
    "import pandas as pd\n",
    "import requests\n",
    "from tqdm.auto import tqdm\n",
    "from pydantic import BaseModel, Field, ValidationError, conint, conlist\n",
    "import matplotlib.pyplot as plt\n",
    "\n",
    "USE_LOCAL = True\n",
    "OLLAMA_MODEL = \"qwen2.5:3b-instruct\"   \n",
    "OLLAMA_URL = \"http://127.0.0.1:11434\"\n",
    "\n",
    "OPENAI_MODEL = \"gpt-4o-mini\"          \n",
    "# export OPENAI_API_KEY\n",
    "\n",
    "DATA_PATH = \"hosts_dataset.json\"      \n",
    "SUMMARIES_PATH = \"summaries.jsonl\"    # Cache of results\n",
    "CSV_EXPORT_PATH = \"summaries.csv\"\n",
    "\n"
   ]
  },
  {
   "cell_type": "code",
   "execution_count": 142,
   "id": "e3156e1d-1fa8-4bd1-88dc-cb9eac1bf985",
   "metadata": {
    "scrolled": true
   },
   "outputs": [
    {
     "name": "stdout",
     "output_type": "stream",
     "text": [
      "LLM: OllamaAdapter\n"
     ]
    }
   ],
   "source": [
    "llm = OllamaAdapter(OLLAMA_MODEL, OLLAMA_URL) if USE_LOCAL else OpenAIAdapter(OPENAI_MODEL)\n",
    "print(\"LLM:\", type(llm).__name__)\n",
    "#Return LLM model running locally"
   ]
  },
  {
   "cell_type": "code",
   "execution_count": 143,
   "id": "ff9a588d-2f06-44e6-ac16-f82cccfe4ba2",
   "metadata": {},
   "outputs": [
    {
     "data": {
      "text/plain": [
       "(3,\n",
       " {'ip': '168.196.241.227',\n",
       "  'location': {'city': 'New York City',\n",
       "   'country': 'United States',\n",
       "   'country_code': 'US',\n",
       "   'coordinates': {'latitude': 40.71427, 'longitude': -74.00597}},\n",
       "  'autonomous_system': {'asn': 263744,\n",
       "   'name': 'Udasha S.A.',\n",
       "   'country_code': 'HN'},\n",
       "  'services': [{'port': 11558,\n",
       "    'protocol': 'SSH',\n",
       "    'banner': 'SSH-2.0-OpenSSH_8.7',\n",
       "    'software': [{'product': 'openssh',\n",
       "      'vendor': 'openbsd',\n",
       "      'version': '8.7'}],\n",
       "    'vulnerabilities': [{'cve_id': 'CVE-2023-38408',\n",
       "      'severity': 'critical',\n",
       "      'cvss_score': 9.8,\n",
       "      'description': 'Known exploited vulnerability'},\n",
       "     {'cve_id': 'CVE-2024-6387',\n",
       "      'severity': 'high',\n",
       "      'cvss_score': 8.1,\n",
       "      'description': 'Known exploited vulnerability'}]}],\n",
       "  'threat_intelligence': {'security_labels': ['REMOTE_ACCESS'],\n",
       "   'risk_level': 'high'}})"
      ]
     },
     "execution_count": 143,
     "metadata": {},
     "output_type": "execute_result"
    }
   ],
   "source": [
    "data_path = Path(DATA_PATH)\n",
    "assert data_path.exists(), f\"File not found: {data_path.resolve()}\"\n",
    "\n",
    "with open(data_path, \"r\") as f:\n",
    "    raw = json.load(f)\n",
    "\n",
    "# Support both {\"hosts\":[...]} and bare list [...]\n",
    "hosts = raw.get(\"hosts\", raw)\n",
    "assert isinstance(hosts, list) and len(hosts) > 0, \"No hosts found in dataset\"\n",
    "\n",
    "len(hosts), hosts[0]\n"
   ]
  },
  {
   "cell_type": "code",
   "execution_count": 144,
   "id": "e2ab1ed5-56db-4df9-866b-abc8e8ed26da",
   "metadata": {},
   "outputs": [
    {
     "name": "stdout",
     "output_type": "stream",
     "text": [
      "Services rows: 11 | Hosts: 3\n"
     ]
    },
    {
     "data": {
      "text/html": [
       "<div>\n",
       "<style scoped>\n",
       "    .dataframe tbody tr th:only-of-type {\n",
       "        vertical-align: middle;\n",
       "    }\n",
       "\n",
       "    .dataframe tbody tr th {\n",
       "        vertical-align: top;\n",
       "    }\n",
       "\n",
       "    .dataframe thead th {\n",
       "        text-align: right;\n",
       "    }\n",
       "</style>\n",
       "<table border=\"1\" class=\"dataframe\">\n",
       "  <thead>\n",
       "    <tr style=\"text-align: right;\">\n",
       "      <th></th>\n",
       "      <th>ip</th>\n",
       "      <th>location.country</th>\n",
       "      <th>location.city</th>\n",
       "      <th>asn</th>\n",
       "      <th>as_name</th>\n",
       "      <th>open_ports</th>\n",
       "      <th>protocols</th>\n",
       "      <th>tls_any</th>\n",
       "      <th>labels</th>\n",
       "    </tr>\n",
       "  </thead>\n",
       "  <tbody>\n",
       "    <tr>\n",
       "      <th>0</th>\n",
       "      <td>1.92.135.168</td>\n",
       "      <td>China</td>\n",
       "      <td>Beijing</td>\n",
       "      <td>55990</td>\n",
       "      <td>HWCSNET Huawei Cloud Service data center</td>\n",
       "      <td>[22, 8074, 8082]</td>\n",
       "      <td>[HTTP, SSH]</td>\n",
       "      <td>False</td>\n",
       "      <td>[]</td>\n",
       "    </tr>\n",
       "    <tr>\n",
       "      <th>1</th>\n",
       "      <td>1.94.62.205</td>\n",
       "      <td>China</td>\n",
       "      <td>Shanghai</td>\n",
       "      <td>55990</td>\n",
       "      <td>HWCSNET Huawei Cloud Service data center</td>\n",
       "      <td>[21, 22, 80, 888, 3306, 8011, 37035]</td>\n",
       "      <td>[FTP, HTTP, MYSQL, SSH]</td>\n",
       "      <td>False</td>\n",
       "      <td>[]</td>\n",
       "    </tr>\n",
       "    <tr>\n",
       "      <th>2</th>\n",
       "      <td>168.196.241.227</td>\n",
       "      <td>United States</td>\n",
       "      <td>New York City</td>\n",
       "      <td>263744</td>\n",
       "      <td>Udasha S.A.</td>\n",
       "      <td>[11558]</td>\n",
       "      <td>[SSH]</td>\n",
       "      <td>False</td>\n",
       "      <td>[]</td>\n",
       "    </tr>\n",
       "  </tbody>\n",
       "</table>\n",
       "</div>"
      ],
      "text/plain": [
       "                ip location.country  location.city     asn  \\\n",
       "0     1.92.135.168            China        Beijing   55990   \n",
       "1      1.94.62.205            China       Shanghai   55990   \n",
       "2  168.196.241.227    United States  New York City  263744   \n",
       "\n",
       "                                    as_name  \\\n",
       "0  HWCSNET Huawei Cloud Service data center   \n",
       "1  HWCSNET Huawei Cloud Service data center   \n",
       "2                               Udasha S.A.   \n",
       "\n",
       "                             open_ports                protocols  tls_any  \\\n",
       "0                      [22, 8074, 8082]              [HTTP, SSH]    False   \n",
       "1  [21, 22, 80, 888, 3306, 8011, 37035]  [FTP, HTTP, MYSQL, SSH]    False   \n",
       "2                               [11558]                    [SSH]    False   \n",
       "\n",
       "  labels  \n",
       "0     []  \n",
       "1     []  \n",
       "2     []  "
      ]
     },
     "execution_count": 144,
     "metadata": {},
     "output_type": "execute_result"
    }
   ],
   "source": [
    "df_hosts = (\n",
    "    df_services.groupby([\"ip\",\"location.country\",\"location.city\",\"asn\",\"as_name\"], dropna=False)\n",
    "               .agg(\n",
    "                   open_ports=(\"port\", lambda x: sorted({int(p) for p in x if pd.notna(p)})),\n",
    "                   protocols=(\"protocol\", lambda x: sorted({p for p in x if pd.notna(p)})),\n",
    "                   tls_any=(\"tls\", lambda x: bool(pd.Series(x).fillna(False).any())),\n",
    "                   labels=(\"labels\", \"first\")\n",
    "               )\n",
    "               .reset_index()\n",
    ")\n",
    "\n",
    "print(\"Services rows:\", len(df_services), \"| Hosts:\", len(df_hosts))\n",
    "df_hosts.head()\n"
   ]
  },
  {
   "cell_type": "markdown",
   "id": "abb666b6-7b2e-4149-afe9-cb0c9992c392",
   "metadata": {},
   "source": [
    "# GRAPH"
   ]
  },
  {
   "cell_type": "code",
   "execution_count": 145,
   "id": "280f752e-5334-4c67-b573-edd01b5216ae",
   "metadata": {},
   "outputs": [
    {
     "data": {
      "image/png": "[encoded data removed]",
      "text/plain": [
       "<Figure size 640x480 with 1 Axes>"
      ]
     },
     "metadata": {},
     "output_type": "display_data"
    },
    {
     "data": {
      "image/png": "[encoded data removed]",
      "text/plain": [
       "<Figure size 640x480 with 1 Axes>"
      ]
     },
     "metadata": {},
     "output_type": "display_data"
    }
   ],
   "source": [
    "\n",
    "\n",
    "# Top countries\n",
    "country_counts = df_hosts[\"location.country\"].fillna(\"UNK\").value_counts()\n",
    "plt.figure()\n",
    "country_counts.head(10).plot(kind=\"bar\")\n",
    "plt.title(\"Top Countries\")\n",
    "plt.show()\n",
    "\n",
    "# Most common ports\n",
    "all_ports = [p for ports in df_hosts[\"open_ports\"] for p in ports]\n",
    "if all_ports:\n",
    "    ser = pd.Series(all_ports)\n",
    "    plt.figure()\n",
    "    ser.value_counts().head(20).plot(kind=\"bar\")\n",
    "    plt.title(\"Most Common Open Ports\")\n",
    "    plt.show()\n"
   ]
  },
  {
   "cell_type": "markdown",
   "id": "2a8e2d33-95a9-4207-b9ad-d2b98f31e648",
   "metadata": {},
   "source": [
    "### 3 detected security risk 2 came from China while 1 is from the US. \n",
    "### We also find out the most commonly penetrated ports are: 22, 8074, 8082, 21, 80, 888, 3306, 8011, 37035, and 11558"
   ]
  },
  {
   "cell_type": "code",
   "execution_count": 146,
   "id": "4dbd8a75-fcb9-4cc1-8c22-c626afa1d96a",
   "metadata": {},
   "outputs": [],
   "source": [
    "class HostSummary(BaseModel):\n",
    "    host: str\n",
    "    country: Optional[str] = None\n",
    "    asn: Optional[int] = None\n",
    "    as_name: Optional[str] = None\n",
    "\n",
    "    open_ports: conlist(int, min_length=0) = []\n",
    "    protocols: conlist(str, min_length=0) = []\n",
    "    tls_present: bool = False\n",
    "\n",
    "    notable_findings: conlist(str, min_length=0) = []\n",
    "    risk_score: conint(ge=0, le=10) = 0\n",
    "    brief: str\n",
    "\n",
    "SCHEMA_TEXT = \"\"\"\n",
    "Return ONLY a minified JSON matching this schema:\n",
    "{\n",
    "  \"host\": \"string (IP)\",\n",
    "  \"country\": \"string or null\",\n",
    "  \"asn\": \"integer or null\",\n",
    "  \"as_name\": \"string or null\",\n",
    "  \"open_ports\": \"array<int>\",\n",
    "  \"protocols\": \"array<string>\",\n",
    "  \"tls_present\": \"boolean\",\n",
    "  \"notable_findings\": \"array<string>\",\n",
    "  \"risk_score\": \"integer 0..10\",\n",
    "  \"brief\": \"string (<= 300 chars)\"\n",
    "}\n",
    "\"\"\".strip()\n"
   ]
  },
  {
   "cell_type": "code",
   "execution_count": 147,
   "id": "ec7e6dd7-0475-4477-ae63-899a5873a0d2",
   "metadata": {},
   "outputs": [],
   "source": [
    "def build_prompt(row: pd.Series) -> str:\n",
    "    country = row.get(\"location.country\", row.get(\"country\", None))\n",
    "    city    = row.get(\"location.city\",   row.get(\"city\", None))\n",
    "    asn     = row.get(\"asn\", None)\n",
    "    as_name = row.get(\"as_name\", None)\n",
    "    open_ports = row.get(\"open_ports\", [])\n",
    "    protocols  = row.get(\"protocols\", [])\n",
    "    tls_any    = row.get(\"tls_any\", False)\n",
    "    labels     = row.get(\"labels\", [])\n",
    "\n",
    "    # Pretty location line if city is available\n",
    "    loc_str = f\"{city}, {country}\" if (city and country) else (country or \"null\")\n",
    "\n",
    "    return f\"\"\"\n",
    "You are a security analyst. Summarize one host.\n",
    "\n",
    "INPUT:\n",
    "IP: {row['ip']}\n",
    "Country/City: {loc_str}\n",
    "ASN: {asn}\n",
    "AS Name: {as_name}\n",
    "Open Ports: {open_ports}\n",
    "Protocols: {protocols}\n",
    "Any TLS: {tls_any}\n",
    "Labels: {labels}\n",
    "\n",
    "Guidelines:\n",
    "- Risk score 0..10: consider service exposure (e.g., 22/80/443/3389), TLS, unusual ports.\n",
    "- Provide 1–3 concise notable findings.\n",
    "- Keep \"brief\" to 1–2 sentences, neutral tone.\n",
    "- Return ONLY JSON. No code fences.\n",
    "\n",
    "{SCHEMA_TEXT}\n",
    "\"\"\".strip()\n"
   ]
  },
  {
   "cell_type": "code",
   "execution_count": 148,
   "id": "7df4bba6-6a76-4323-9780-1d3dc73cf55c",
   "metadata": {},
   "outputs": [
    {
     "name": "stdout",
     "output_type": "stream",
     "text": [
      "Done. Total summaries: 3 (file: /Users/hokhaloi/censys-summarizer/summaries.jsonl)\n"
     ]
    }
   ],
   "source": [
    "\n",
    "# ---------- main loop ----------\n",
    "results: List[Dict[str, Any]] = list(existing.values())\n",
    "new_count = 0\n",
    "\n",
    "for _, row in df_hosts.iterrows():\n",
    "    host_ip = row[\"ip\"]\n",
    "    if host_ip in existing:\n",
    "        continue\n",
    "\n",
    "    prompt = build_prompt(row)\n",
    "    tries = 0\n",
    "    while tries < MAX_TRIES:\n",
    "        tries += 1\n",
    "        time.sleep(RANDOM_JITTER_S)\n",
    "\n",
    "        raw = send(prompt, max_tokens=600, temperature=0.1)\n",
    "\n",
    "        try:\n",
    "            payload = json.loads(extract_json(raw))\n",
    "            obj = HostSummary(**payload)  # validates against schema\n",
    "            out_f.write(obj.model_dump_json() + \"\\n\")\n",
    "            out_f.flush()\n",
    "\n",
    "            rec = obj.model_dump()\n",
    "            existing[host_ip] = rec\n",
    "            results.append(rec)\n",
    "            new_count += 1\n",
    "            if new_count % 10 == 0:\n",
    "                print(f\"[{new_count}] summarized (latest: {host_ip})\")\n",
    "            break\n",
    "\n",
    "        except Exception as ve:\n",
    "            if tries < MAX_TRIES:\n",
    "                prompt = _repair_prompt(row, str(ve))\n",
    "                time.sleep(BACKOFF_BASE_S * (2 ** (tries - 1)) + random.random() * 0.2)\n",
    "            else:\n",
    "                print(f\"Validation failed for {host_ip} after {tries} tries -> {ve}\")\n",
    "\n",
    "out_f.close()\n",
    "print(f\"Done. Total summaries: {len(existing)} (file: {sum_path.resolve()})\")\n"
   ]
  },
  {
   "cell_type": "code",
   "execution_count": 150,
   "id": "5476a0bb-2f3d-41a8-ac2a-ffc7058ea183",
   "metadata": {},
   "outputs": [
    {
     "data": {
      "text/html": [
       "<div>\n",
       "<style scoped>\n",
       "    .dataframe tbody tr th:only-of-type {\n",
       "        vertical-align: middle;\n",
       "    }\n",
       "\n",
       "    .dataframe tbody tr th {\n",
       "        vertical-align: top;\n",
       "    }\n",
       "\n",
       "    .dataframe thead th {\n",
       "        text-align: right;\n",
       "    }\n",
       "</style>\n",
       "<table border=\"1\" class=\"dataframe\">\n",
       "  <thead>\n",
       "    <tr style=\"text-align: right;\">\n",
       "      <th></th>\n",
       "      <th>host</th>\n",
       "      <th>country</th>\n",
       "      <th>asn</th>\n",
       "      <th>as_name</th>\n",
       "      <th>open_ports</th>\n",
       "      <th>protocols</th>\n",
       "      <th>tls_present</th>\n",
       "      <th>notable_findings</th>\n",
       "      <th>risk_score</th>\n",
       "      <th>brief</th>\n",
       "    </tr>\n",
       "  </thead>\n",
       "  <tbody>\n",
       "    <tr>\n",
       "      <th>0</th>\n",
       "      <td>1.92.135.168</td>\n",
       "      <td>China</td>\n",
       "      <td>55990</td>\n",
       "      <td>HWCSNET Huawei Cloud Service data center</td>\n",
       "      <td>[22, 8074, 8082]</td>\n",
       "      <td>[HTTP, SSH]</td>\n",
       "      <td>False</td>\n",
       "      <td>[Port 22 (SSH) is open and accessible., Port 8...</td>\n",
       "      <td>6</td>\n",
       "      <td>Multiple ports are exposed, including SSH (22)...</td>\n",
       "    </tr>\n",
       "    <tr>\n",
       "      <th>1</th>\n",
       "      <td>1.94.62.205</td>\n",
       "      <td>None</td>\n",
       "      <td>55990</td>\n",
       "      <td>HWCSNET Huawei Cloud Service data center</td>\n",
       "      <td>[21, 22, 80, 3306, 8011, 37035]</td>\n",
       "      <td>[FTP, HTTP, MYSQL, SSH]</td>\n",
       "      <td>False</td>\n",
       "      <td>[Port 21 (FTP) is open and not using TLS., Por...</td>\n",
       "      <td>6</td>\n",
       "      <td>Host with open ports including FTP, HTTP, MYSQ...</td>\n",
       "    </tr>\n",
       "    <tr>\n",
       "      <th>2</th>\n",
       "      <td>168.196.241.227</td>\n",
       "      <td>None</td>\n",
       "      <td>263744</td>\n",
       "      <td>Udasha S.A.</td>\n",
       "      <td>[11558]</td>\n",
       "      <td>[SSH]</td>\n",
       "      <td>False</td>\n",
       "      <td>[Open SSH port on unusual port (11558), No TLS...</td>\n",
       "      <td>3</td>\n",
       "      <td>Unusual SSH port with no TLS, located in New Y...</td>\n",
       "    </tr>\n",
       "  </tbody>\n",
       "</table>\n",
       "</div>"
      ],
      "text/plain": [
       "              host country     asn                                   as_name  \\\n",
       "0     1.92.135.168   China   55990  HWCSNET Huawei Cloud Service data center   \n",
       "1      1.94.62.205    None   55990  HWCSNET Huawei Cloud Service data center   \n",
       "2  168.196.241.227    None  263744                               Udasha S.A.   \n",
       "\n",
       "                        open_ports                protocols  tls_present  \\\n",
       "0                 [22, 8074, 8082]              [HTTP, SSH]        False   \n",
       "1  [21, 22, 80, 3306, 8011, 37035]  [FTP, HTTP, MYSQL, SSH]        False   \n",
       "2                          [11558]                    [SSH]        False   \n",
       "\n",
       "                                    notable_findings  risk_score  \\\n",
       "0  [Port 22 (SSH) is open and accessible., Port 8...           6   \n",
       "1  [Port 21 (FTP) is open and not using TLS., Por...           6   \n",
       "2  [Open SSH port on unusual port (11558), No TLS...           3   \n",
       "\n",
       "                                               brief  \n",
       "0  Multiple ports are exposed, including SSH (22)...  \n",
       "1  Host with open ports including FTP, HTTP, MYSQ...  \n",
       "2  Unusual SSH port with no TLS, located in New Y...  "
      ]
     },
     "metadata": {},
     "output_type": "display_data"
    },
    {
     "data": {
      "image/png": "[encoded data removed]",
      "text/plain": [
       "<Figure size 640x480 with 1 Axes>"
      ]
     },
     "metadata": {},
     "output_type": "display_data"
    },
    {
     "name": "stdout",
     "output_type": "stream",
     "text": [
      "Exported: /Users/hokhaloi/censys-summarizer/summaries.csv\n"
     ]
    }
   ],
   "source": [
    "#exporting and convert json to csv file for better data analyzing\n",
    "rows = [json.loads(line) for line in open(SUMMARIES_PATH)]\n",
    "df_sum = pd.DataFrame(rows)\n",
    "\n",
    "display(df_sum.head(10))\n",
    "\n",
    "plt.figure()\n",
    "df_sum[\"risk_score\"].value_counts().sort_index().plot(kind=\"bar\")\n",
    "plt.title(\"Risk Score Distribution\")\n",
    "plt.show()\n",
    "\n",
    "df_sum.to_csv(CSV_EXPORT_PATH, index=False)\n",
    "print(\"Exported:\", Path(CSV_EXPORT_PATH).resolve())\n"
   ]
  },
  {
   "cell_type": "code",
   "execution_count": null,
   "id": "ccf31faf-bcff-4319-9dcb-2e47e4e9b184",
   "metadata": {},
   "outputs": [],
   "source": [
    "## Out of 3 security risk, 2 of which have a score of 6 which came 1 of them from the China and the other is unknown\n",
    "## One of the host with risk of of 3 also showing a "
   ]
  },
  {
   "cell_type": "code",
   "execution_count": null,
   "id": "a26ef050-d8bd-455f-b994-8a91d37c5498",
   "metadata": {},
   "outputs": [],
   "source": []
  }
 ],
 "metadata": {
  "kernelspec": {
   "display_name": "Python [conda env:base] *",
   "language": "python",
   "name": "conda-base-py"
  },
  "language_info": {
   "codemirror_mode": {
    "name": "ipython",
    "version": 3
   },
   "file_extension": ".py",
   "mimetype": "text/x-python",
   "name": "python",
   "nbconvert_exporter": "python",
   "pygments_lexer": "ipython3",
   "version": "3.10.14"
  }
 },
 "nbformat": 4,
 "nbformat_minor": 5
}
